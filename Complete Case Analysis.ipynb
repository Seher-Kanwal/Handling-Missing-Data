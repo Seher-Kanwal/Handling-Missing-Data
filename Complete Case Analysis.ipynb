{
 "cells": [
  {
   "cell_type": "code",
   "execution_count": 1,
   "id": "70242602",
   "metadata": {},
   "outputs": [],
   "source": [
    "import pandas as pd\n",
    "import numpy as np \n",
    "import matplotlib.pyplot as plt\n",
    "import seaborn as sns"
   ]
  },
  {
   "cell_type": "code",
   "execution_count": 3,
   "id": "1eb1690c",
   "metadata": {},
   "outputs": [
    {
     "data": {
      "text/html": [
       "<div>\n",
       "<style scoped>\n",
       "    .dataframe tbody tr th:only-of-type {\n",
       "        vertical-align: middle;\n",
       "    }\n",
       "\n",
       "    .dataframe tbody tr th {\n",
       "        vertical-align: top;\n",
       "    }\n",
       "\n",
       "    .dataframe thead th {\n",
       "        text-align: right;\n",
       "    }\n",
       "</style>\n",
       "<table border=\"1\" class=\"dataframe\">\n",
       "  <thead>\n",
       "    <tr style=\"text-align: right;\">\n",
       "      <th></th>\n",
       "      <th>enrollee_id</th>\n",
       "      <th>city</th>\n",
       "      <th>city_development_index</th>\n",
       "      <th>gender</th>\n",
       "      <th>relevent_experience</th>\n",
       "      <th>enrolled_university</th>\n",
       "      <th>education_level</th>\n",
       "      <th>major_discipline</th>\n",
       "      <th>experience</th>\n",
       "      <th>company_size</th>\n",
       "      <th>company_type</th>\n",
       "      <th>training_hours</th>\n",
       "      <th>target</th>\n",
       "    </tr>\n",
       "  </thead>\n",
       "  <tbody>\n",
       "    <tr>\n",
       "      <th>0</th>\n",
       "      <td>8949</td>\n",
       "      <td>city_103</td>\n",
       "      <td>0.920</td>\n",
       "      <td>Male</td>\n",
       "      <td>Has relevent experience</td>\n",
       "      <td>no_enrollment</td>\n",
       "      <td>Graduate</td>\n",
       "      <td>STEM</td>\n",
       "      <td>20.0</td>\n",
       "      <td>NaN</td>\n",
       "      <td>NaN</td>\n",
       "      <td>36.0</td>\n",
       "      <td>1.0</td>\n",
       "    </tr>\n",
       "    <tr>\n",
       "      <th>1</th>\n",
       "      <td>29725</td>\n",
       "      <td>city_40</td>\n",
       "      <td>0.776</td>\n",
       "      <td>Male</td>\n",
       "      <td>No relevent experience</td>\n",
       "      <td>no_enrollment</td>\n",
       "      <td>Graduate</td>\n",
       "      <td>STEM</td>\n",
       "      <td>15.0</td>\n",
       "      <td>50-99</td>\n",
       "      <td>Pvt Ltd</td>\n",
       "      <td>47.0</td>\n",
       "      <td>0.0</td>\n",
       "    </tr>\n",
       "    <tr>\n",
       "      <th>2</th>\n",
       "      <td>11561</td>\n",
       "      <td>city_21</td>\n",
       "      <td>0.624</td>\n",
       "      <td>NaN</td>\n",
       "      <td>No relevent experience</td>\n",
       "      <td>Full time course</td>\n",
       "      <td>Graduate</td>\n",
       "      <td>STEM</td>\n",
       "      <td>5.0</td>\n",
       "      <td>NaN</td>\n",
       "      <td>NaN</td>\n",
       "      <td>83.0</td>\n",
       "      <td>0.0</td>\n",
       "    </tr>\n",
       "    <tr>\n",
       "      <th>3</th>\n",
       "      <td>33241</td>\n",
       "      <td>city_115</td>\n",
       "      <td>0.789</td>\n",
       "      <td>NaN</td>\n",
       "      <td>No relevent experience</td>\n",
       "      <td>NaN</td>\n",
       "      <td>Graduate</td>\n",
       "      <td>Business Degree</td>\n",
       "      <td>0.0</td>\n",
       "      <td>NaN</td>\n",
       "      <td>Pvt Ltd</td>\n",
       "      <td>52.0</td>\n",
       "      <td>1.0</td>\n",
       "    </tr>\n",
       "    <tr>\n",
       "      <th>4</th>\n",
       "      <td>666</td>\n",
       "      <td>city_162</td>\n",
       "      <td>0.767</td>\n",
       "      <td>Male</td>\n",
       "      <td>Has relevent experience</td>\n",
       "      <td>no_enrollment</td>\n",
       "      <td>Masters</td>\n",
       "      <td>STEM</td>\n",
       "      <td>20.0</td>\n",
       "      <td>50-99</td>\n",
       "      <td>Funded Startup</td>\n",
       "      <td>8.0</td>\n",
       "      <td>0.0</td>\n",
       "    </tr>\n",
       "  </tbody>\n",
       "</table>\n",
       "</div>"
      ],
      "text/plain": [
       "   enrollee_id      city  city_development_index gender  \\\n",
       "0         8949  city_103                   0.920   Male   \n",
       "1        29725   city_40                   0.776   Male   \n",
       "2        11561   city_21                   0.624    NaN   \n",
       "3        33241  city_115                   0.789    NaN   \n",
       "4          666  city_162                   0.767   Male   \n",
       "\n",
       "       relevent_experience enrolled_university education_level  \\\n",
       "0  Has relevent experience       no_enrollment        Graduate   \n",
       "1   No relevent experience       no_enrollment        Graduate   \n",
       "2   No relevent experience    Full time course        Graduate   \n",
       "3   No relevent experience                 NaN        Graduate   \n",
       "4  Has relevent experience       no_enrollment         Masters   \n",
       "\n",
       "  major_discipline  experience company_size    company_type  training_hours  \\\n",
       "0             STEM        20.0          NaN             NaN            36.0   \n",
       "1             STEM        15.0        50-99         Pvt Ltd            47.0   \n",
       "2             STEM         5.0          NaN             NaN            83.0   \n",
       "3  Business Degree         0.0          NaN         Pvt Ltd            52.0   \n",
       "4             STEM        20.0        50-99  Funded Startup             8.0   \n",
       "\n",
       "   target  \n",
       "0     1.0  \n",
       "1     0.0  \n",
       "2     0.0  \n",
       "3     1.0  \n",
       "4     0.0  "
      ]
     },
     "execution_count": 3,
     "metadata": {},
     "output_type": "execute_result"
    }
   ],
   "source": [
    "df = pd.read_csv('data_science_job.csv')\n",
    "df.head()"
   ]
  },
  {
   "cell_type": "code",
   "execution_count": 4,
   "id": "b8654da8",
   "metadata": {},
   "outputs": [
    {
     "data": {
      "text/plain": [
       "(19158, 13)"
      ]
     },
     "execution_count": 4,
     "metadata": {},
     "output_type": "execute_result"
    }
   ],
   "source": [
    "df.shape"
   ]
  },
  {
   "cell_type": "markdown",
   "id": "8a5b5611",
   "metadata": {},
   "source": [
    "## Check for Null values "
   ]
  },
  {
   "cell_type": "code",
   "execution_count": 8,
   "id": "a8e6ef8e",
   "metadata": {
    "scrolled": true
   },
   "outputs": [
    {
     "data": {
      "text/plain": [
       "enrollee_id                0.000000\n",
       "city                       0.000000\n",
       "city_development_index     2.500261\n",
       "gender                    23.530640\n",
       "relevent_experience        0.000000\n",
       "enrolled_university        2.014824\n",
       "education_level            2.401086\n",
       "major_discipline          14.683161\n",
       "experience                 0.339284\n",
       "company_size              30.994885\n",
       "company_type              32.049274\n",
       "training_hours             3.998330\n",
       "target                     0.000000\n",
       "dtype: float64"
      ]
     },
     "execution_count": 8,
     "metadata": {},
     "output_type": "execute_result"
    }
   ],
   "source": [
    "(df.isnull().mean())*100"
   ]
  },
  {
   "cell_type": "markdown",
   "id": "85f7e836",
   "metadata": {},
   "source": [
    "### Here In this method we only remove those col that have missing value % less or equal to 5%\n",
    "#### if we perform this on whole df than we may loss huge amount of the data so we need to avoid in that case \n",
    "### If we perform this, our model will not be in a conditon to deal with the missing data "
   ]
  },
  {
   "cell_type": "code",
   "execution_count": 13,
   "id": "55c62e9c",
   "metadata": {},
   "outputs": [
    {
     "data": {
      "text/plain": [
       "enrollee_id               0.000000\n",
       "city                      0.000000\n",
       "city_development_index    0.025003\n",
       "gender                    0.235306\n",
       "relevent_experience       0.000000\n",
       "enrolled_university       0.020148\n",
       "education_level           0.024011\n",
       "major_discipline          0.146832\n",
       "experience                0.003393\n",
       "company_size              0.309949\n",
       "company_type              0.320493\n",
       "training_hours            0.039983\n",
       "target                    0.000000\n",
       "dtype: float64"
      ]
     },
     "execution_count": 13,
     "metadata": {},
     "output_type": "execute_result"
    }
   ],
   "source": [
    "### enrollee id don't have any null value\n",
    "df.isnull().mean()"
   ]
  },
  {
   "cell_type": "markdown",
   "id": "0b18874d",
   "metadata": {},
   "source": [
    "### here we take those columns which have 5% values as null \n",
    "#### We use > 0 bcs a col without any null value will have a mean of 0 so we don't need to consider "
   ]
  },
  {
   "cell_type": "code",
   "execution_count": 15,
   "id": "db242d19",
   "metadata": {},
   "outputs": [
    {
     "data": {
      "text/plain": [
       "['city_development_index',\n",
       " 'enrolled_university',\n",
       " 'education_level',\n",
       " 'experience',\n",
       " 'training_hours']"
      ]
     },
     "execution_count": 15,
     "metadata": {},
     "output_type": "execute_result"
    }
   ],
   "source": [
    "cols = [col for col in df.columns if df[col].isnull().mean() < 0.05 and df[col].isnull().mean()>0]\n",
    "cols"
   ]
  },
  {
   "cell_type": "markdown",
   "id": "10a4c9ec",
   "metadata": {},
   "source": [
    "### Let's Create a new data frame that consist of columns have 5% null value "
   ]
  },
  {
   "cell_type": "code",
   "execution_count": 16,
   "id": "effe5f77",
   "metadata": {},
   "outputs": [
    {
     "data": {
      "text/html": [
       "<div>\n",
       "<style scoped>\n",
       "    .dataframe tbody tr th:only-of-type {\n",
       "        vertical-align: middle;\n",
       "    }\n",
       "\n",
       "    .dataframe tbody tr th {\n",
       "        vertical-align: top;\n",
       "    }\n",
       "\n",
       "    .dataframe thead th {\n",
       "        text-align: right;\n",
       "    }\n",
       "</style>\n",
       "<table border=\"1\" class=\"dataframe\">\n",
       "  <thead>\n",
       "    <tr style=\"text-align: right;\">\n",
       "      <th></th>\n",
       "      <th>city_development_index</th>\n",
       "      <th>enrolled_university</th>\n",
       "      <th>education_level</th>\n",
       "      <th>experience</th>\n",
       "      <th>training_hours</th>\n",
       "    </tr>\n",
       "  </thead>\n",
       "  <tbody>\n",
       "    <tr>\n",
       "      <th>0</th>\n",
       "      <td>0.920</td>\n",
       "      <td>no_enrollment</td>\n",
       "      <td>Graduate</td>\n",
       "      <td>20.0</td>\n",
       "      <td>36.0</td>\n",
       "    </tr>\n",
       "    <tr>\n",
       "      <th>1</th>\n",
       "      <td>0.776</td>\n",
       "      <td>no_enrollment</td>\n",
       "      <td>Graduate</td>\n",
       "      <td>15.0</td>\n",
       "      <td>47.0</td>\n",
       "    </tr>\n",
       "    <tr>\n",
       "      <th>2</th>\n",
       "      <td>0.624</td>\n",
       "      <td>Full time course</td>\n",
       "      <td>Graduate</td>\n",
       "      <td>5.0</td>\n",
       "      <td>83.0</td>\n",
       "    </tr>\n",
       "    <tr>\n",
       "      <th>3</th>\n",
       "      <td>0.789</td>\n",
       "      <td>NaN</td>\n",
       "      <td>Graduate</td>\n",
       "      <td>0.0</td>\n",
       "      <td>52.0</td>\n",
       "    </tr>\n",
       "    <tr>\n",
       "      <th>4</th>\n",
       "      <td>0.767</td>\n",
       "      <td>no_enrollment</td>\n",
       "      <td>Masters</td>\n",
       "      <td>20.0</td>\n",
       "      <td>8.0</td>\n",
       "    </tr>\n",
       "  </tbody>\n",
       "</table>\n",
       "</div>"
      ],
      "text/plain": [
       "   city_development_index enrolled_university education_level  experience  \\\n",
       "0                   0.920       no_enrollment        Graduate        20.0   \n",
       "1                   0.776       no_enrollment        Graduate        15.0   \n",
       "2                   0.624    Full time course        Graduate         5.0   \n",
       "3                   0.789                 NaN        Graduate         0.0   \n",
       "4                   0.767       no_enrollment         Masters        20.0   \n",
       "\n",
       "   training_hours  \n",
       "0            36.0  \n",
       "1            47.0  \n",
       "2            83.0  \n",
       "3            52.0  \n",
       "4             8.0  "
      ]
     },
     "execution_count": 16,
     "metadata": {},
     "output_type": "execute_result"
    }
   ],
   "source": [
    "df1 = df[cols]\n",
    "df1.head()"
   ]
  },
  {
   "cell_type": "markdown",
   "id": "bd66ab13",
   "metadata": {},
   "source": [
    "## Here we got 5 cols\n",
    "- 3 numerical values \n",
    "- 2 categorical cols\n"
   ]
  },
  {
   "cell_type": "markdown",
   "id": "baa5ecf2",
   "metadata": {},
   "source": [
    "## Check the distribution of categorical variables "
   ]
  },
  {
   "cell_type": "code",
   "execution_count": 17,
   "id": "1b4c931d",
   "metadata": {},
   "outputs": [
    {
     "data": {
      "text/plain": [
       "Graduate          11598\n",
       "Masters            4361\n",
       "High School        2017\n",
       "Phd                 414\n",
       "Primary School      308\n",
       "Name: education_level, dtype: int64"
      ]
     },
     "execution_count": 17,
     "metadata": {},
     "output_type": "execute_result"
    }
   ],
   "source": [
    "df1['education_level'].value_counts()"
   ]
  },
  {
   "cell_type": "markdown",
   "id": "4d6b371b",
   "metadata": {},
   "source": [
    "### Let's check how much data will be left if we drop rows\n",
    "\n",
    "## We almost losing 11% of the data "
   ]
  },
  {
   "cell_type": "code",
   "execution_count": 19,
   "id": "6c5b6524",
   "metadata": {},
   "outputs": [
    {
     "data": {
      "text/plain": [
       "0.8968577095730244"
      ]
     },
     "execution_count": 19,
     "metadata": {},
     "output_type": "execute_result"
    }
   ],
   "source": [
    "len(df1.dropna())/len(df1)"
   ]
  },
  {
   "cell_type": "markdown",
   "id": "e038b5a1",
   "metadata": {},
   "source": [
    "### Drop and create new df"
   ]
  },
  {
   "cell_type": "code",
   "execution_count": 20,
   "id": "a8229efb",
   "metadata": {},
   "outputs": [
    {
     "data": {
      "text/plain": [
       "(17182, 5)"
      ]
     },
     "execution_count": 20,
     "metadata": {},
     "output_type": "execute_result"
    }
   ],
   "source": [
    "final_df = df1.dropna()\n",
    "final_df.shape"
   ]
  },
  {
   "cell_type": "code",
   "execution_count": 21,
   "id": "cb175ceb",
   "metadata": {},
   "outputs": [
    {
     "data": {
      "text/plain": [
       "(19158, 5)"
      ]
     },
     "execution_count": 21,
     "metadata": {},
     "output_type": "execute_result"
    }
   ],
   "source": [
    "## Shape of df1 before droping\n",
    "df1.shape"
   ]
  },
  {
   "cell_type": "markdown",
   "id": "a01227a8",
   "metadata": {},
   "source": [
    "## After Applying we need to make sure that the distribution of data remains same \n",
    "### Let's plot the graph\n",
    "- For categorical data, plot hist graph"
   ]
  },
  {
   "cell_type": "markdown",
   "id": "10647f4d",
   "metadata": {},
   "source": [
    "## First draw individual graph and after that compare distribution after and before the CCA"
   ]
  },
  {
   "cell_type": "code",
   "execution_count": 24,
   "id": "6056c69a",
   "metadata": {},
   "outputs": [
    {
     "data": {
      "text/plain": [
       "array([[<AxesSubplot:title={'center':'city_development_index'}>,\n",
       "        <AxesSubplot:title={'center':'experience'}>],\n",
       "       [<AxesSubplot:title={'center':'training_hours'}>, <AxesSubplot:>]],\n",
       "      dtype=object)"
      ]
     },
     "execution_count": 24,
     "metadata": {},
     "output_type": "execute_result"
    },
    {
     "data": {
      "image/png": "[encoded data removed]",
      "text/plain": [
       "<Figure size 1152x864 with 4 Axes>"
      ]
     },
     "metadata": {
      "needs_background": "light"
     },
     "output_type": "display_data"
    }
   ],
   "source": [
    "final_df.hist(bins=50 , density = True, figsize=(16,12))"
   ]
  },
  {
   "cell_type": "markdown",
   "id": "af1c5a83",
   "metadata": {},
   "source": [
    "### Before and after analysis of each column"
   ]
  },
  {
   "cell_type": "code",
   "execution_count": 27,
   "id": "174868a4",
   "metadata": {},
   "outputs": [
    {
     "data": {
      "text/plain": [
       "(array([ 922., 1521., 1498., 1240., 1360., 1053., 1072., 1120.,  859.,\n",
       "         543.,  608.,  592.,  523.,  426.,  432.,  501.,  364.,  151.,\n",
       "         205.,  182.,  185.,  191.,  194.,  181.,  204.,   60.,   65.,\n",
       "          85.,   67.,   69.,   73.,   68.,   81.,   42.,   15.,   23.,\n",
       "          32.,   20.,   43.,   29.,   10.,   34.,   22.,   24.,   27.,\n",
       "          33.,   29.,   28.,   34.,   42.]),\n",
       " array([  1. ,   7.7,  14.4,  21.1,  27.8,  34.5,  41.2,  47.9,  54.6,\n",
       "         61.3,  68. ,  74.7,  81.4,  88.1,  94.8, 101.5, 108.2, 114.9,\n",
       "        121.6, 128.3, 135. , 141.7, 148.4, 155.1, 161.8, 168.5, 175.2,\n",
       "        181.9, 188.6, 195.3, 202. , 208.7, 215.4, 222.1, 228.8, 235.5,\n",
       "        242.2, 248.9, 255.6, 262.3, 269. , 275.7, 282.4, 289.1, 295.8,\n",
       "        302.5, 309.2, 315.9, 322.6, 329.3, 336. ]),\n",
       " <BarContainer object of 50 artists>)"
      ]
     },
     "execution_count": 27,
     "metadata": {},
     "output_type": "execute_result"
    },
    {
     "data": {
      "image/png": "[encoded data removed]",
      "text/plain": [
       "<Figure size 864x432 with 2 Axes>"
      ]
     },
     "metadata": {
      "needs_background": "light"
     },
     "output_type": "display_data"
    }
   ],
   "source": [
    "plt.figure(figsize=(12,6))\n",
    "plt.subplot(121)\n",
    "plt.hist(df1['training_hours'], bins=50 , color='red')\n",
    "\n",
    "plt.subplot(122)\n",
    "plt.hist(final_df['training_hours'], bins=50 , color='blue')"
   ]
  },
  {
   "cell_type": "markdown",
   "id": "767c65f0",
   "metadata": {},
   "source": [
    "### Let's draw overlap plots "
   ]
  },
  {
   "cell_type": "code",
   "execution_count": 31,
   "id": "e64018e2",
   "metadata": {},
   "outputs": [
    {
     "data": {
      "text/plain": [
       "(array([ 922., 1521., 1498., 1240., 1360., 1053., 1072., 1120.,  859.,\n",
       "         543.,  608.,  592.,  523.,  426.,  432.,  501.,  364.,  151.,\n",
       "         205.,  182.,  185.,  191.,  194.,  181.,  204.,   60.,   65.,\n",
       "          85.,   67.,   69.,   73.,   68.,   81.,   42.,   15.,   23.,\n",
       "          32.,   20.,   43.,   29.,   10.,   34.,   22.,   24.,   27.,\n",
       "          33.,   29.,   28.,   34.,   42.]),\n",
       " array([  1. ,   7.7,  14.4,  21.1,  27.8,  34.5,  41.2,  47.9,  54.6,\n",
       "         61.3,  68. ,  74.7,  81.4,  88.1,  94.8, 101.5, 108.2, 114.9,\n",
       "        121.6, 128.3, 135. , 141.7, 148.4, 155.1, 161.8, 168.5, 175.2,\n",
       "        181.9, 188.6, 195.3, 202. , 208.7, 215.4, 222.1, 228.8, 235.5,\n",
       "        242.2, 248.9, 255.6, 262.3, 269. , 275.7, 282.4, 289.1, 295.8,\n",
       "        302.5, 309.2, 315.9, 322.6, 329.3, 336. ]),\n",
       " <BarContainer object of 50 artists>)"
      ]
     },
     "execution_count": 31,
     "metadata": {},
     "output_type": "execute_result"
    },
    {
     "data": {
      "image/png": "[encoded data removed]",
      "text/plain": [
       "<Figure size 1152x576 with 1 Axes>"
      ]
     },
     "metadata": {
      "needs_background": "light"
     },
     "output_type": "display_data"
    }
   ],
   "source": [
    "plt.figure(figsize=(16,8))\n",
    "plt.subplot(121)\n",
    "plt.hist(df1['training_hours'], bins=50 , color='red')\n",
    "\n",
    "#.subplot(122)\n",
    "plt.hist(final_df['training_hours'], bins=50 , color='blue')"
   ]
  },
  {
   "cell_type": "code",
   "execution_count": 32,
   "id": "5b57d914",
   "metadata": {
    "scrolled": true
   },
   "outputs": [
    {
     "data": {
      "text/plain": [
       "(array([1.600e+01, 0.000e+00, 0.000e+00, 1.900e+01, 1.300e+01, 0.000e+00,\n",
       "        2.200e+01, 8.300e+01, 0.000e+00, 0.000e+00, 3.510e+02, 9.000e+00,\n",
       "        0.000e+00, 1.130e+02, 0.000e+00, 0.000e+00, 0.000e+00, 2.369e+03,\n",
       "        0.000e+00, 4.300e+01, 3.000e+00, 1.010e+02, 0.000e+00, 1.150e+02,\n",
       "        6.950e+02, 8.000e+00, 0.000e+00, 8.900e+01, 8.300e+01, 2.160e+02,\n",
       "        2.540e+02, 3.150e+02, 1.060e+02, 1.400e+01, 1.760e+02, 4.270e+02,\n",
       "        0.000e+00, 1.250e+02, 1.400e+02, 1.880e+02, 4.180e+02, 1.180e+02,\n",
       "        1.330e+02, 4.970e+02, 9.780e+02, 2.430e+02, 1.661e+03, 6.524e+03,\n",
       "        0.000e+00, 5.170e+02]),\n",
       " array([0.448  , 0.45802, 0.46804, 0.47806, 0.48808, 0.4981 , 0.50812,\n",
       "        0.51814, 0.52816, 0.53818, 0.5482 , 0.55822, 0.56824, 0.57826,\n",
       "        0.58828, 0.5983 , 0.60832, 0.61834, 0.62836, 0.63838, 0.6484 ,\n",
       "        0.65842, 0.66844, 0.67846, 0.68848, 0.6985 , 0.70852, 0.71854,\n",
       "        0.72856, 0.73858, 0.7486 , 0.75862, 0.76864, 0.77866, 0.78868,\n",
       "        0.7987 , 0.80872, 0.81874, 0.82876, 0.83878, 0.8488 , 0.85882,\n",
       "        0.86884, 0.87886, 0.88888, 0.8989 , 0.90892, 0.91894, 0.92896,\n",
       "        0.93898, 0.949  ]),\n",
       " <BarContainer object of 50 artists>)"
      ]
     },
     "execution_count": 32,
     "metadata": {},
     "output_type": "execute_result"
    },
    {
     "data": {
      "image/png": "[encoded data removed]",
      "text/plain": [
       "<Figure size 1152x576 with 1 Axes>"
      ]
     },
     "metadata": {
      "needs_background": "light"
     },
     "output_type": "display_data"
    }
   ],
   "source": [
    "plt.figure(figsize=(16,8))\n",
    "plt.subplot(121)\n",
    "plt.hist(df1['city_development_index'], bins=50 , color='red')\n",
    "\n",
    "#.subplot(122)\n",
    "plt.hist(final_df['city_development_index'], bins=50 , color='blue')"
   ]
  },
  {
   "cell_type": "code",
   "execution_count": 35,
   "id": "e0f6611c",
   "metadata": {},
   "outputs": [
    {
     "data": {
      "text/plain": [
       "<AxesSubplot:ylabel='Density'>"
      ]
     },
     "execution_count": 35,
     "metadata": {},
     "output_type": "execute_result"
    },
    {
     "data": {
      "image/png": "[encoded data removed]",
      "text/plain": [
       "<Figure size 1152x576 with 1 Axes>"
      ]
     },
     "metadata": {
      "needs_background": "light"
     },
     "output_type": "display_data"
    }
   ],
   "source": [
    "plt.figure(figsize=(16,8))\n",
    "plt.subplot(121)\n",
    "df1['city_development_index'].plot.density()\n",
    "\n",
    "#.subplot(122)\n",
    "final_df['city_development_index'].plot.density()"
   ]
  },
  {
   "cell_type": "code",
   "execution_count": null,
   "id": "9aebaa09",
   "metadata": {},
   "outputs": [],
   "source": []
  }
 ],
 "metadata": {
  "kernelspec": {
   "display_name": "Python 3 (ipykernel)",
   "language": "python",
   "name": "python3"
  },
  "language_info": {
   "codemirror_mode": {
    "name": "ipython",
    "version": 3
   },
   "file_extension": ".py",
   "mimetype": "text/x-python",
   "name": "python",
   "nbconvert_exporter": "python",
   "pygments_lexer": "ipython3",
   "version": "3.9.12"
  }
 },
 "nbformat": 4,
 "nbformat_minor": 5
}
