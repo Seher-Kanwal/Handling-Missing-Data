{
 "cells": [
  {
   "cell_type": "code",
   "execution_count": 1,
   "id": "7017570c",
   "metadata": {},
   "outputs": [],
   "source": [
    "import pandas as pd\n",
    "import numpy as np\n",
    "import matplotlib.pyplot as plt"
   ]
  },
  {
   "cell_type": "code",
   "execution_count": 2,
   "id": "b051fda0",
   "metadata": {},
   "outputs": [
    {
     "data": {
      "text/html": [
       "<div>\n",
       "<style scoped>\n",
       "    .dataframe tbody tr th:only-of-type {\n",
       "        vertical-align: middle;\n",
       "    }\n",
       "\n",
       "    .dataframe tbody tr th {\n",
       "        vertical-align: top;\n",
       "    }\n",
       "\n",
       "    .dataframe thead th {\n",
       "        text-align: right;\n",
       "    }\n",
       "</style>\n",
       "<table border=\"1\" class=\"dataframe\">\n",
       "  <thead>\n",
       "    <tr style=\"text-align: right;\">\n",
       "      <th></th>\n",
       "      <th>Age</th>\n",
       "      <th>Fare</th>\n",
       "      <th>Family</th>\n",
       "      <th>Survived</th>\n",
       "    </tr>\n",
       "  </thead>\n",
       "  <tbody>\n",
       "    <tr>\n",
       "      <th>0</th>\n",
       "      <td>22.0</td>\n",
       "      <td>7.2500</td>\n",
       "      <td>1</td>\n",
       "      <td>0</td>\n",
       "    </tr>\n",
       "    <tr>\n",
       "      <th>1</th>\n",
       "      <td>38.0</td>\n",
       "      <td>71.2833</td>\n",
       "      <td>1</td>\n",
       "      <td>1</td>\n",
       "    </tr>\n",
       "    <tr>\n",
       "      <th>2</th>\n",
       "      <td>26.0</td>\n",
       "      <td>7.9250</td>\n",
       "      <td>0</td>\n",
       "      <td>1</td>\n",
       "    </tr>\n",
       "    <tr>\n",
       "      <th>3</th>\n",
       "      <td>35.0</td>\n",
       "      <td>53.1000</td>\n",
       "      <td>1</td>\n",
       "      <td>1</td>\n",
       "    </tr>\n",
       "    <tr>\n",
       "      <th>4</th>\n",
       "      <td>35.0</td>\n",
       "      <td>8.0500</td>\n",
       "      <td>0</td>\n",
       "      <td>0</td>\n",
       "    </tr>\n",
       "  </tbody>\n",
       "</table>\n",
       "</div>"
      ],
      "text/plain": [
       "    Age     Fare  Family  Survived\n",
       "0  22.0   7.2500       1         0\n",
       "1  38.0  71.2833       1         1\n",
       "2  26.0   7.9250       0         1\n",
       "3  35.0  53.1000       1         1\n",
       "4  35.0   8.0500       0         0"
      ]
     },
     "execution_count": 2,
     "metadata": {},
     "output_type": "execute_result"
    }
   ],
   "source": [
    "df = pd.read_csv('titanic_toy.csv')\n",
    "df.head()"
   ]
  },
  {
   "cell_type": "code",
   "execution_count": 3,
   "id": "e1030890",
   "metadata": {},
   "outputs": [
    {
     "name": "stdout",
     "output_type": "stream",
     "text": [
      "<class 'pandas.core.frame.DataFrame'>\n",
      "RangeIndex: 891 entries, 0 to 890\n",
      "Data columns (total 4 columns):\n",
      " #   Column    Non-Null Count  Dtype  \n",
      "---  ------    --------------  -----  \n",
      " 0   Age       714 non-null    float64\n",
      " 1   Fare      846 non-null    float64\n",
      " 2   Family    891 non-null    int64  \n",
      " 3   Survived  891 non-null    int64  \n",
      "dtypes: float64(2), int64(2)\n",
      "memory usage: 28.0 KB\n"
     ]
    }
   ],
   "source": [
    "df.info()"
   ]
  },
  {
   "cell_type": "code",
   "execution_count": 4,
   "id": "c622edb0",
   "metadata": {},
   "outputs": [
    {
     "data": {
      "text/plain": [
       "Age         177\n",
       "Fare         45\n",
       "Family        0\n",
       "Survived      0\n",
       "dtype: int64"
      ]
     },
     "execution_count": 4,
     "metadata": {},
     "output_type": "execute_result"
    }
   ],
   "source": [
    "df.isnull().sum()"
   ]
  },
  {
   "cell_type": "markdown",
   "id": "38254154",
   "metadata": {},
   "source": [
    "## Here we just to fill out the null value with just any random number \n",
    "Let say we can fill the age column with 99, 65,45,23,1 etc \n",
    "\n",
    "same operation can be performed with Fare column too "
   ]
  },
  {
   "cell_type": "code",
   "execution_count": 6,
   "id": "f460e044",
   "metadata": {},
   "outputs": [],
   "source": [
    "df['Age_99'] = df['Age'].fillna(99)\n",
    "df['Age_65'] = df['Age'].fillna(65)\n",
    "df['Age_-1'] = df['Age'].fillna(-1)\n",
    "\n",
    "\n",
    "df['Fare_999'] = df['Fare'].fillna(999)\n",
    "df['Fare_650'] = df['Fare'].fillna(650)\n",
    "df['Fare_-1'] = df['Fare'].fillna(-1)\n"
   ]
  },
  {
   "cell_type": "code",
   "execution_count": 7,
   "id": "dbf46085",
   "metadata": {},
   "outputs": [
    {
     "data": {
      "text/html": [
       "<div>\n",
       "<style scoped>\n",
       "    .dataframe tbody tr th:only-of-type {\n",
       "        vertical-align: middle;\n",
       "    }\n",
       "\n",
       "    .dataframe tbody tr th {\n",
       "        vertical-align: top;\n",
       "    }\n",
       "\n",
       "    .dataframe thead th {\n",
       "        text-align: right;\n",
       "    }\n",
       "</style>\n",
       "<table border=\"1\" class=\"dataframe\">\n",
       "  <thead>\n",
       "    <tr style=\"text-align: right;\">\n",
       "      <th></th>\n",
       "      <th>Age</th>\n",
       "      <th>Fare</th>\n",
       "      <th>Family</th>\n",
       "      <th>Survived</th>\n",
       "      <th>Age_99</th>\n",
       "      <th>Age_65</th>\n",
       "      <th>Age_-1</th>\n",
       "      <th>Fare_999</th>\n",
       "      <th>Fare_650</th>\n",
       "      <th>Fare_-1</th>\n",
       "    </tr>\n",
       "  </thead>\n",
       "  <tbody>\n",
       "    <tr>\n",
       "      <th>0</th>\n",
       "      <td>22.0</td>\n",
       "      <td>7.2500</td>\n",
       "      <td>1</td>\n",
       "      <td>0</td>\n",
       "      <td>22.0</td>\n",
       "      <td>22.0</td>\n",
       "      <td>22.0</td>\n",
       "      <td>7.2500</td>\n",
       "      <td>7.2500</td>\n",
       "      <td>7.2500</td>\n",
       "    </tr>\n",
       "    <tr>\n",
       "      <th>1</th>\n",
       "      <td>38.0</td>\n",
       "      <td>71.2833</td>\n",
       "      <td>1</td>\n",
       "      <td>1</td>\n",
       "      <td>38.0</td>\n",
       "      <td>38.0</td>\n",
       "      <td>38.0</td>\n",
       "      <td>71.2833</td>\n",
       "      <td>71.2833</td>\n",
       "      <td>71.2833</td>\n",
       "    </tr>\n",
       "    <tr>\n",
       "      <th>2</th>\n",
       "      <td>26.0</td>\n",
       "      <td>7.9250</td>\n",
       "      <td>0</td>\n",
       "      <td>1</td>\n",
       "      <td>26.0</td>\n",
       "      <td>26.0</td>\n",
       "      <td>26.0</td>\n",
       "      <td>7.9250</td>\n",
       "      <td>7.9250</td>\n",
       "      <td>7.9250</td>\n",
       "    </tr>\n",
       "    <tr>\n",
       "      <th>3</th>\n",
       "      <td>35.0</td>\n",
       "      <td>53.1000</td>\n",
       "      <td>1</td>\n",
       "      <td>1</td>\n",
       "      <td>35.0</td>\n",
       "      <td>35.0</td>\n",
       "      <td>35.0</td>\n",
       "      <td>53.1000</td>\n",
       "      <td>53.1000</td>\n",
       "      <td>53.1000</td>\n",
       "    </tr>\n",
       "    <tr>\n",
       "      <th>4</th>\n",
       "      <td>35.0</td>\n",
       "      <td>8.0500</td>\n",
       "      <td>0</td>\n",
       "      <td>0</td>\n",
       "      <td>35.0</td>\n",
       "      <td>35.0</td>\n",
       "      <td>35.0</td>\n",
       "      <td>8.0500</td>\n",
       "      <td>8.0500</td>\n",
       "      <td>8.0500</td>\n",
       "    </tr>\n",
       "  </tbody>\n",
       "</table>\n",
       "</div>"
      ],
      "text/plain": [
       "    Age     Fare  Family  Survived  Age_99  Age_65  Age_-1  Fare_999  \\\n",
       "0  22.0   7.2500       1         0    22.0    22.0    22.0    7.2500   \n",
       "1  38.0  71.2833       1         1    38.0    38.0    38.0   71.2833   \n",
       "2  26.0   7.9250       0         1    26.0    26.0    26.0    7.9250   \n",
       "3  35.0  53.1000       1         1    35.0    35.0    35.0   53.1000   \n",
       "4  35.0   8.0500       0         0    35.0    35.0    35.0    8.0500   \n",
       "\n",
       "   Fare_650  Fare_-1  \n",
       "0    7.2500   7.2500  \n",
       "1   71.2833  71.2833  \n",
       "2    7.9250   7.9250  \n",
       "3   53.1000  53.1000  \n",
       "4    8.0500   8.0500  "
      ]
     },
     "execution_count": 7,
     "metadata": {},
     "output_type": "execute_result"
    }
   ],
   "source": [
    "df.head()"
   ]
  },
  {
   "cell_type": "markdown",
   "id": "d971ac7b",
   "metadata": {},
   "source": [
    "### Check the Corr of the different columns "
   ]
  },
  {
   "cell_type": "code",
   "execution_count": 10,
   "id": "c74d0c1b",
   "metadata": {},
   "outputs": [
    {
     "data": {
      "text/html": [
       "<div>\n",
       "<style scoped>\n",
       "    .dataframe tbody tr th:only-of-type {\n",
       "        vertical-align: middle;\n",
       "    }\n",
       "\n",
       "    .dataframe tbody tr th {\n",
       "        vertical-align: top;\n",
       "    }\n",
       "\n",
       "    .dataframe thead th {\n",
       "        text-align: right;\n",
       "    }\n",
       "</style>\n",
       "<table border=\"1\" class=\"dataframe\">\n",
       "  <thead>\n",
       "    <tr style=\"text-align: right;\">\n",
       "      <th></th>\n",
       "      <th>Age</th>\n",
       "      <th>Fare</th>\n",
       "      <th>Family</th>\n",
       "      <th>Survived</th>\n",
       "      <th>Age_99</th>\n",
       "      <th>Age_65</th>\n",
       "      <th>Age_-1</th>\n",
       "      <th>Fare_999</th>\n",
       "      <th>Fare_650</th>\n",
       "      <th>Fare_-1</th>\n",
       "    </tr>\n",
       "  </thead>\n",
       "  <tbody>\n",
       "    <tr>\n",
       "      <th>Age</th>\n",
       "      <td>1.000000</td>\n",
       "      <td>0.099481</td>\n",
       "      <td>-0.301914</td>\n",
       "      <td>-0.077221</td>\n",
       "      <td>1.000000</td>\n",
       "      <td>1.000000</td>\n",
       "      <td>1.000000</td>\n",
       "      <td>0.031311</td>\n",
       "      <td>0.042471</td>\n",
       "      <td>0.094827</td>\n",
       "    </tr>\n",
       "    <tr>\n",
       "      <th>Fare</th>\n",
       "      <td>0.099481</td>\n",
       "      <td>1.000000</td>\n",
       "      <td>0.212626</td>\n",
       "      <td>0.263920</td>\n",
       "      <td>-0.047700</td>\n",
       "      <td>-0.007304</td>\n",
       "      <td>0.135581</td>\n",
       "      <td>1.000000</td>\n",
       "      <td>1.000000</td>\n",
       "      <td>1.000000</td>\n",
       "    </tr>\n",
       "    <tr>\n",
       "      <th>Family</th>\n",
       "      <td>-0.301914</td>\n",
       "      <td>0.212626</td>\n",
       "      <td>1.000000</td>\n",
       "      <td>0.016639</td>\n",
       "      <td>-0.150088</td>\n",
       "      <td>-0.204561</td>\n",
       "      <td>-0.147201</td>\n",
       "      <td>0.041972</td>\n",
       "      <td>0.066274</td>\n",
       "      <td>0.208126</td>\n",
       "    </tr>\n",
       "    <tr>\n",
       "      <th>Survived</th>\n",
       "      <td>-0.077221</td>\n",
       "      <td>0.263920</td>\n",
       "      <td>0.016639</td>\n",
       "      <td>1.000000</td>\n",
       "      <td>-0.113133</td>\n",
       "      <td>-0.115099</td>\n",
       "      <td>0.012439</td>\n",
       "      <td>0.106354</td>\n",
       "      <td>0.134166</td>\n",
       "      <td>0.246324</td>\n",
       "    </tr>\n",
       "    <tr>\n",
       "      <th>Age_99</th>\n",
       "      <td>1.000000</td>\n",
       "      <td>-0.047700</td>\n",
       "      <td>-0.150088</td>\n",
       "      <td>-0.113133</td>\n",
       "      <td>1.000000</td>\n",
       "      <td>0.953595</td>\n",
       "      <td>-0.311252</td>\n",
       "      <td>-0.040370</td>\n",
       "      <td>-0.044711</td>\n",
       "      <td>-0.041771</td>\n",
       "    </tr>\n",
       "    <tr>\n",
       "      <th>Age_65</th>\n",
       "      <td>1.000000</td>\n",
       "      <td>-0.007304</td>\n",
       "      <td>-0.204561</td>\n",
       "      <td>-0.115099</td>\n",
       "      <td>0.953595</td>\n",
       "      <td>1.000000</td>\n",
       "      <td>-0.010674</td>\n",
       "      <td>-0.023118</td>\n",
       "      <td>-0.023191</td>\n",
       "      <td>-0.003835</td>\n",
       "    </tr>\n",
       "    <tr>\n",
       "      <th>Age_-1</th>\n",
       "      <td>1.000000</td>\n",
       "      <td>0.135581</td>\n",
       "      <td>-0.147201</td>\n",
       "      <td>0.012439</td>\n",
       "      <td>-0.311252</td>\n",
       "      <td>-0.010674</td>\n",
       "      <td>1.000000</td>\n",
       "      <td>0.061103</td>\n",
       "      <td>0.075292</td>\n",
       "      <td>0.126618</td>\n",
       "    </tr>\n",
       "    <tr>\n",
       "      <th>Fare_999</th>\n",
       "      <td>0.031311</td>\n",
       "      <td>1.000000</td>\n",
       "      <td>0.041972</td>\n",
       "      <td>0.106354</td>\n",
       "      <td>-0.040370</td>\n",
       "      <td>-0.023118</td>\n",
       "      <td>0.061103</td>\n",
       "      <td>1.000000</td>\n",
       "      <td>0.992802</td>\n",
       "      <td>0.079653</td>\n",
       "    </tr>\n",
       "    <tr>\n",
       "      <th>Fare_650</th>\n",
       "      <td>0.042471</td>\n",
       "      <td>1.000000</td>\n",
       "      <td>0.066274</td>\n",
       "      <td>0.134166</td>\n",
       "      <td>-0.044711</td>\n",
       "      <td>-0.023191</td>\n",
       "      <td>0.075292</td>\n",
       "      <td>0.992802</td>\n",
       "      <td>1.000000</td>\n",
       "      <td>0.198466</td>\n",
       "    </tr>\n",
       "    <tr>\n",
       "      <th>Fare_-1</th>\n",
       "      <td>0.094827</td>\n",
       "      <td>1.000000</td>\n",
       "      <td>0.208126</td>\n",
       "      <td>0.246324</td>\n",
       "      <td>-0.041771</td>\n",
       "      <td>-0.003835</td>\n",
       "      <td>0.126618</td>\n",
       "      <td>0.079653</td>\n",
       "      <td>0.198466</td>\n",
       "      <td>1.000000</td>\n",
       "    </tr>\n",
       "  </tbody>\n",
       "</table>\n",
       "</div>"
      ],
      "text/plain": [
       "               Age      Fare    Family  Survived    Age_99    Age_65  \\\n",
       "Age       1.000000  0.099481 -0.301914 -0.077221  1.000000  1.000000   \n",
       "Fare      0.099481  1.000000  0.212626  0.263920 -0.047700 -0.007304   \n",
       "Family   -0.301914  0.212626  1.000000  0.016639 -0.150088 -0.204561   \n",
       "Survived -0.077221  0.263920  0.016639  1.000000 -0.113133 -0.115099   \n",
       "Age_99    1.000000 -0.047700 -0.150088 -0.113133  1.000000  0.953595   \n",
       "Age_65    1.000000 -0.007304 -0.204561 -0.115099  0.953595  1.000000   \n",
       "Age_-1    1.000000  0.135581 -0.147201  0.012439 -0.311252 -0.010674   \n",
       "Fare_999  0.031311  1.000000  0.041972  0.106354 -0.040370 -0.023118   \n",
       "Fare_650  0.042471  1.000000  0.066274  0.134166 -0.044711 -0.023191   \n",
       "Fare_-1   0.094827  1.000000  0.208126  0.246324 -0.041771 -0.003835   \n",
       "\n",
       "            Age_-1  Fare_999  Fare_650   Fare_-1  \n",
       "Age       1.000000  0.031311  0.042471  0.094827  \n",
       "Fare      0.135581  1.000000  1.000000  1.000000  \n",
       "Family   -0.147201  0.041972  0.066274  0.208126  \n",
       "Survived  0.012439  0.106354  0.134166  0.246324  \n",
       "Age_99   -0.311252 -0.040370 -0.044711 -0.041771  \n",
       "Age_65   -0.010674 -0.023118 -0.023191 -0.003835  \n",
       "Age_-1    1.000000  0.061103  0.075292  0.126618  \n",
       "Fare_999  0.061103  1.000000  0.992802  0.079653  \n",
       "Fare_650  0.075292  0.992802  1.000000  0.198466  \n",
       "Fare_-1   0.126618  0.079653  0.198466  1.000000  "
      ]
     },
     "execution_count": 10,
     "metadata": {},
     "output_type": "execute_result"
    }
   ],
   "source": [
    "df.corr()"
   ]
  },
  {
   "cell_type": "markdown",
   "id": "b9d68ed9",
   "metadata": {},
   "source": [
    "### let's plot the graph"
   ]
  },
  {
   "cell_type": "code",
   "execution_count": 17,
   "id": "fa4fe30d",
   "metadata": {},
   "outputs": [
    {
     "data": {
      "text/plain": [
       "<matplotlib.legend.Legend at 0x136681a5e20>"
      ]
     },
     "execution_count": 17,
     "metadata": {},
     "output_type": "execute_result"
    },
    {
     "data": {
      "image/png": "[encoded data removed]",
      "text/plain": [
       "<Figure size 864x576 with 1 Axes>"
      ]
     },
     "metadata": {
      "needs_background": "light"
     },
     "output_type": "display_data"
    }
   ],
   "source": [
    "fig = plt.figure(figsize=(12,8))\n",
    "ax = fig.add_subplot(111)\n",
    "\n",
    "df['Age'].plot(kind = 'kde', ax = ax, color = 'red')\n",
    "\n",
    "df['Age_-1'].plot(kind = 'kde', ax = ax, color = 'blue')\n",
    "\n",
    "df['Age_99'].plot(kind = 'kde', ax = ax, color = 'green')\n",
    "\n",
    "lines, labels = ax.get_legend_handles_labels()\n",
    "ax.legend(lines, labels, loc='best')"
   ]
  },
  {
   "cell_type": "code",
   "execution_count": 18,
   "id": "d284aa02",
   "metadata": {
    "scrolled": true
   },
   "outputs": [
    {
     "data": {
      "text/plain": [
       "<matplotlib.legend.Legend at 0x136682309d0>"
      ]
     },
     "execution_count": 18,
     "metadata": {},
     "output_type": "execute_result"
    },
    {
     "data": {
      "image/png": "[encoded data removed]",
      "text/plain": [
       "<Figure size 864x576 with 1 Axes>"
      ]
     },
     "metadata": {
      "needs_background": "light"
     },
     "output_type": "display_data"
    }
   ],
   "source": [
    "fig = plt.figure(figsize=(12,8))\n",
    "ax = fig.add_subplot(111)\n",
    "\n",
    "df['Fare'].plot(kind = 'kde', ax = ax, color = 'red')\n",
    "\n",
    "df['Fare_-1'].plot(kind = 'kde', ax = ax, color = 'blue')\n",
    "\n",
    "df['Fare_999'].plot(kind = 'kde', ax = ax, color = 'green')\n",
    "\n",
    "lines, labels = ax.get_legend_handles_labels()\n",
    "ax.legend(lines, labels, loc='best')"
   ]
  }
 ],
 "metadata": {
  "kernelspec": {
   "display_name": "Python 3 (ipykernel)",
   "language": "python",
   "name": "python3"
  },
  "language_info": {
   "codemirror_mode": {
    "name": "ipython",
    "version": 3
   },
   "file_extension": ".py",
   "mimetype": "text/x-python",
   "name": "python",
   "nbconvert_exporter": "python",
   "pygments_lexer": "ipython3",
   "version": "3.9.12"
  }
 },
 "nbformat": 4,
 "nbformat_minor": 5
}
