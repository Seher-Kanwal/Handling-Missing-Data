{
 "cells": [
  {
   "cell_type": "code",
   "execution_count": 1,
   "id": "61c72fae",
   "metadata": {},
   "outputs": [],
   "source": [
    "import pandas as pd\n",
    "import numpy as np\n",
    "import matplotlib.pyplot as plt "
   ]
  },
  {
   "cell_type": "code",
   "execution_count": 2,
   "id": "88fdb35a",
   "metadata": {},
   "outputs": [],
   "source": [
    "from sklearn.model_selection import train_test_split"
   ]
  },
  {
   "cell_type": "code",
   "execution_count": 3,
   "id": "3582742b",
   "metadata": {},
   "outputs": [
    {
     "data": {
      "text/html": [
       "<div>\n",
       "<style scoped>\n",
       "    .dataframe tbody tr th:only-of-type {\n",
       "        vertical-align: middle;\n",
       "    }\n",
       "\n",
       "    .dataframe tbody tr th {\n",
       "        vertical-align: top;\n",
       "    }\n",
       "\n",
       "    .dataframe thead th {\n",
       "        text-align: right;\n",
       "    }\n",
       "</style>\n",
       "<table border=\"1\" class=\"dataframe\">\n",
       "  <thead>\n",
       "    <tr style=\"text-align: right;\">\n",
       "      <th></th>\n",
       "      <th>Age</th>\n",
       "      <th>Fare</th>\n",
       "      <th>Family</th>\n",
       "      <th>Survived</th>\n",
       "    </tr>\n",
       "  </thead>\n",
       "  <tbody>\n",
       "    <tr>\n",
       "      <th>0</th>\n",
       "      <td>22.0</td>\n",
       "      <td>7.2500</td>\n",
       "      <td>1</td>\n",
       "      <td>0</td>\n",
       "    </tr>\n",
       "    <tr>\n",
       "      <th>1</th>\n",
       "      <td>38.0</td>\n",
       "      <td>71.2833</td>\n",
       "      <td>1</td>\n",
       "      <td>1</td>\n",
       "    </tr>\n",
       "    <tr>\n",
       "      <th>2</th>\n",
       "      <td>26.0</td>\n",
       "      <td>7.9250</td>\n",
       "      <td>0</td>\n",
       "      <td>1</td>\n",
       "    </tr>\n",
       "    <tr>\n",
       "      <th>3</th>\n",
       "      <td>35.0</td>\n",
       "      <td>53.1000</td>\n",
       "      <td>1</td>\n",
       "      <td>1</td>\n",
       "    </tr>\n",
       "    <tr>\n",
       "      <th>4</th>\n",
       "      <td>35.0</td>\n",
       "      <td>8.0500</td>\n",
       "      <td>0</td>\n",
       "      <td>0</td>\n",
       "    </tr>\n",
       "  </tbody>\n",
       "</table>\n",
       "</div>"
      ],
      "text/plain": [
       "    Age     Fare  Family  Survived\n",
       "0  22.0   7.2500       1         0\n",
       "1  38.0  71.2833       1         1\n",
       "2  26.0   7.9250       0         1\n",
       "3  35.0  53.1000       1         1\n",
       "4  35.0   8.0500       0         0"
      ]
     },
     "execution_count": 3,
     "metadata": {},
     "output_type": "execute_result"
    }
   ],
   "source": [
    "df = pd.read_csv('titanic_toy.csv')\n",
    "df.head()"
   ]
  },
  {
   "cell_type": "code",
   "execution_count": 4,
   "id": "aaee754f",
   "metadata": {},
   "outputs": [
    {
     "name": "stdout",
     "output_type": "stream",
     "text": [
      "<class 'pandas.core.frame.DataFrame'>\n",
      "RangeIndex: 891 entries, 0 to 890\n",
      "Data columns (total 4 columns):\n",
      " #   Column    Non-Null Count  Dtype  \n",
      "---  ------    --------------  -----  \n",
      " 0   Age       714 non-null    float64\n",
      " 1   Fare      846 non-null    float64\n",
      " 2   Family    891 non-null    int64  \n",
      " 3   Survived  891 non-null    int64  \n",
      "dtypes: float64(2), int64(2)\n",
      "memory usage: 28.0 KB\n"
     ]
    }
   ],
   "source": [
    "df.info()"
   ]
  },
  {
   "cell_type": "code",
   "execution_count": 5,
   "id": "97389f3a",
   "metadata": {},
   "outputs": [
    {
     "data": {
      "text/plain": [
       "(891, 4)"
      ]
     },
     "execution_count": 5,
     "metadata": {},
     "output_type": "execute_result"
    }
   ],
   "source": [
    "df.shape"
   ]
  },
  {
   "cell_type": "code",
   "execution_count": 6,
   "id": "1757322b",
   "metadata": {},
   "outputs": [
    {
     "data": {
      "text/plain": [
       "Age         177\n",
       "Fare         45\n",
       "Family        0\n",
       "Survived      0\n",
       "dtype: int64"
      ]
     },
     "execution_count": 6,
     "metadata": {},
     "output_type": "execute_result"
    }
   ],
   "source": [
    "df.isnull().sum()"
   ]
  },
  {
   "cell_type": "markdown",
   "id": "27b56599",
   "metadata": {},
   "source": [
    "### let's check the mean of the missing value \n",
    "- age have 19% null values\n",
    "- fare have 5% null values"
   ]
  },
  {
   "cell_type": "code",
   "execution_count": 7,
   "id": "60f117c5",
   "metadata": {
    "scrolled": true
   },
   "outputs": [
    {
     "data": {
      "text/plain": [
       "Age         0.198653\n",
       "Fare        0.050505\n",
       "Family      0.000000\n",
       "Survived    0.000000\n",
       "dtype: float64"
      ]
     },
     "execution_count": 7,
     "metadata": {},
     "output_type": "execute_result"
    }
   ],
   "source": [
    "df.isnull().mean()"
   ]
  },
  {
   "cell_type": "code",
   "execution_count": 8,
   "id": "0df9f7b4",
   "metadata": {},
   "outputs": [
    {
     "data": {
      "text/html": [
       "<div>\n",
       "<style scoped>\n",
       "    .dataframe tbody tr th:only-of-type {\n",
       "        vertical-align: middle;\n",
       "    }\n",
       "\n",
       "    .dataframe tbody tr th {\n",
       "        vertical-align: top;\n",
       "    }\n",
       "\n",
       "    .dataframe thead th {\n",
       "        text-align: right;\n",
       "    }\n",
       "</style>\n",
       "<table border=\"1\" class=\"dataframe\">\n",
       "  <thead>\n",
       "    <tr style=\"text-align: right;\">\n",
       "      <th></th>\n",
       "      <th>Age</th>\n",
       "      <th>Fare</th>\n",
       "      <th>Family</th>\n",
       "    </tr>\n",
       "  </thead>\n",
       "  <tbody>\n",
       "    <tr>\n",
       "      <th>0</th>\n",
       "      <td>22.0</td>\n",
       "      <td>7.2500</td>\n",
       "      <td>1</td>\n",
       "    </tr>\n",
       "    <tr>\n",
       "      <th>1</th>\n",
       "      <td>38.0</td>\n",
       "      <td>71.2833</td>\n",
       "      <td>1</td>\n",
       "    </tr>\n",
       "    <tr>\n",
       "      <th>2</th>\n",
       "      <td>26.0</td>\n",
       "      <td>7.9250</td>\n",
       "      <td>0</td>\n",
       "    </tr>\n",
       "    <tr>\n",
       "      <th>3</th>\n",
       "      <td>35.0</td>\n",
       "      <td>53.1000</td>\n",
       "      <td>1</td>\n",
       "    </tr>\n",
       "    <tr>\n",
       "      <th>4</th>\n",
       "      <td>35.0</td>\n",
       "      <td>8.0500</td>\n",
       "      <td>0</td>\n",
       "    </tr>\n",
       "  </tbody>\n",
       "</table>\n",
       "</div>"
      ],
      "text/plain": [
       "    Age     Fare  Family\n",
       "0  22.0   7.2500       1\n",
       "1  38.0  71.2833       1\n",
       "2  26.0   7.9250       0\n",
       "3  35.0  53.1000       1\n",
       "4  35.0   8.0500       0"
      ]
     },
     "execution_count": 8,
     "metadata": {},
     "output_type": "execute_result"
    }
   ],
   "source": [
    "x = df.iloc[:,:3]\n",
    "y = df['Survived']\n",
    "x.head()"
   ]
  },
  {
   "cell_type": "code",
   "execution_count": 9,
   "id": "5be9c163",
   "metadata": {},
   "outputs": [],
   "source": [
    "x_train,x_test,y_train,y_test = train_test_split(x,y,train_size=0.7, random_state=4)"
   ]
  },
  {
   "cell_type": "markdown",
   "id": "0a01daf9",
   "metadata": {},
   "source": [
    "### Let's fill the null values with means and median "
   ]
  },
  {
   "cell_type": "code",
   "execution_count": 10,
   "id": "e1edcde9",
   "metadata": {},
   "outputs": [],
   "source": [
    "df['mean_Age']  = df['Age'].fillna(df['Age'].mean())\n",
    "df['medain_Age']  = df['Age'].fillna(df['Age'].median())\n",
    "\n",
    "df['mean_Fare']  = df['Fare'].fillna(df['Fare'].mean())\n",
    "df['medain_Fare']  = df['Fare'].fillna(df['Fare'].mean())"
   ]
  },
  {
   "cell_type": "code",
   "execution_count": 11,
   "id": "6994c225",
   "metadata": {},
   "outputs": [],
   "source": [
    "x_train['mean_Age']  = x_train['Age'].fillna(df['Age'].mean())\n",
    "x_train['medain_Age']  = x_train['Age'].fillna(df['Age'].median())\n",
    "\n",
    "x_train['mean_Fare']  = x_train['Age'].fillna(df['Fare'].mean())\n",
    "x_train['medain_Fare']  = x_train['Age'].fillna(df['Fare'].median())"
   ]
  },
  {
   "cell_type": "code",
   "execution_count": 12,
   "id": "1a6c391f",
   "metadata": {},
   "outputs": [
    {
     "data": {
      "text/html": [
       "<div>\n",
       "<style scoped>\n",
       "    .dataframe tbody tr th:only-of-type {\n",
       "        vertical-align: middle;\n",
       "    }\n",
       "\n",
       "    .dataframe tbody tr th {\n",
       "        vertical-align: top;\n",
       "    }\n",
       "\n",
       "    .dataframe thead th {\n",
       "        text-align: right;\n",
       "    }\n",
       "</style>\n",
       "<table border=\"1\" class=\"dataframe\">\n",
       "  <thead>\n",
       "    <tr style=\"text-align: right;\">\n",
       "      <th></th>\n",
       "      <th>Age</th>\n",
       "      <th>Fare</th>\n",
       "      <th>Family</th>\n",
       "      <th>Survived</th>\n",
       "      <th>mean_Age</th>\n",
       "      <th>medain_Age</th>\n",
       "      <th>mean_Fare</th>\n",
       "      <th>medain_Fare</th>\n",
       "    </tr>\n",
       "  </thead>\n",
       "  <tbody>\n",
       "    <tr>\n",
       "      <th>0</th>\n",
       "      <td>22.0</td>\n",
       "      <td>7.2500</td>\n",
       "      <td>1</td>\n",
       "      <td>0</td>\n",
       "      <td>22.0</td>\n",
       "      <td>22.0</td>\n",
       "      <td>7.2500</td>\n",
       "      <td>7.2500</td>\n",
       "    </tr>\n",
       "    <tr>\n",
       "      <th>1</th>\n",
       "      <td>38.0</td>\n",
       "      <td>71.2833</td>\n",
       "      <td>1</td>\n",
       "      <td>1</td>\n",
       "      <td>38.0</td>\n",
       "      <td>38.0</td>\n",
       "      <td>71.2833</td>\n",
       "      <td>71.2833</td>\n",
       "    </tr>\n",
       "    <tr>\n",
       "      <th>2</th>\n",
       "      <td>26.0</td>\n",
       "      <td>7.9250</td>\n",
       "      <td>0</td>\n",
       "      <td>1</td>\n",
       "      <td>26.0</td>\n",
       "      <td>26.0</td>\n",
       "      <td>7.9250</td>\n",
       "      <td>7.9250</td>\n",
       "    </tr>\n",
       "    <tr>\n",
       "      <th>3</th>\n",
       "      <td>35.0</td>\n",
       "      <td>53.1000</td>\n",
       "      <td>1</td>\n",
       "      <td>1</td>\n",
       "      <td>35.0</td>\n",
       "      <td>35.0</td>\n",
       "      <td>53.1000</td>\n",
       "      <td>53.1000</td>\n",
       "    </tr>\n",
       "    <tr>\n",
       "      <th>4</th>\n",
       "      <td>35.0</td>\n",
       "      <td>8.0500</td>\n",
       "      <td>0</td>\n",
       "      <td>0</td>\n",
       "      <td>35.0</td>\n",
       "      <td>35.0</td>\n",
       "      <td>8.0500</td>\n",
       "      <td>8.0500</td>\n",
       "    </tr>\n",
       "  </tbody>\n",
       "</table>\n",
       "</div>"
      ],
      "text/plain": [
       "    Age     Fare  Family  Survived  mean_Age  medain_Age  mean_Fare  \\\n",
       "0  22.0   7.2500       1         0      22.0        22.0     7.2500   \n",
       "1  38.0  71.2833       1         1      38.0        38.0    71.2833   \n",
       "2  26.0   7.9250       0         1      26.0        26.0     7.9250   \n",
       "3  35.0  53.1000       1         1      35.0        35.0    53.1000   \n",
       "4  35.0   8.0500       0         0      35.0        35.0     8.0500   \n",
       "\n",
       "   medain_Fare  \n",
       "0       7.2500  \n",
       "1      71.2833  \n",
       "2       7.9250  \n",
       "3      53.1000  \n",
       "4       8.0500  "
      ]
     },
     "execution_count": 12,
     "metadata": {},
     "output_type": "execute_result"
    }
   ],
   "source": [
    "df.head()"
   ]
  },
  {
   "cell_type": "markdown",
   "id": "ace6e28d",
   "metadata": {},
   "source": [
    "### Let's check for the variance \n",
    "## Variance actually decribe the difference or distance from mean \n",
    "- if there is more change in variance than we avoid to fill null with mean and median\n",
    "- if there is just slight change, than we're good to go "
   ]
  },
  {
   "cell_type": "code",
   "execution_count": 13,
   "id": "472c4458",
   "metadata": {},
   "outputs": [
    {
     "data": {
      "text/plain": [
       "211.0191247463081"
      ]
     },
     "execution_count": 13,
     "metadata": {},
     "output_type": "execute_result"
    }
   ],
   "source": [
    "df['Age'].var()"
   ]
  },
  {
   "cell_type": "code",
   "execution_count": 14,
   "id": "acd0102e",
   "metadata": {},
   "outputs": [
    {
     "name": "stdout",
     "output_type": "stream",
     "text": [
      "Original Age variable variance:  211.0191247463081\n",
      "Age Variance after median imputation:  169.51249827942328\n",
      "Age Variance after mean imputation:  169.05239993721085\n"
     ]
    }
   ],
   "source": [
    "print('Original Age variable variance: ', df['Age'].var())\n",
    "print('Age Variance after median imputation: ',df['medain_Age'].var())\n",
    "print('Age Variance after mean imputation: ', df['mean_Age'].var())\n"
   ]
  },
  {
   "cell_type": "code",
   "execution_count": 15,
   "id": "ca70ec17",
   "metadata": {},
   "outputs": [
    {
     "name": "stdout",
     "output_type": "stream",
     "text": [
      "Original Fare variable variance:  2530.6730768999487\n",
      "Fare Variance after median imputation:  2402.717696607255\n",
      "Fare Variance after mean imputation:  2402.717696607255\n"
     ]
    }
   ],
   "source": [
    "print('Original Fare variable variance: ', df['Fare'].var())\n",
    "print('Fare Variance after median imputation: ', df['medain_Fare'].var())\n",
    "print('Fare Variance after mean imputation: ', df['mean_Fare'].var())"
   ]
  },
  {
   "cell_type": "markdown",
   "id": "f95f0bac",
   "metadata": {},
   "source": [
    "### Let's check distribution using plot \n",
    "- Here the shape of distribution get's changed bcz if we are filling the null with mean than more values will be fall out in the middle of observation"
   ]
  },
  {
   "cell_type": "markdown",
   "id": "e93cd0cc",
   "metadata": {},
   "source": [
    "### here we can saw that due to the means and mode the distribution is high in the center "
   ]
  },
  {
   "cell_type": "code",
   "execution_count": 26,
   "id": "2012f3a1",
   "metadata": {},
   "outputs": [
    {
     "data": {
      "text/plain": [
       "<matplotlib.legend.Legend at 0x1b07a48bd60>"
      ]
     },
     "execution_count": 26,
     "metadata": {},
     "output_type": "execute_result"
    },
    {
     "data": {
      "image/png": "[encoded data removed]",
      "text/plain": [
       "<Figure size 864x432 with 1 Axes>"
      ]
     },
     "metadata": {
      "needs_background": "light"
     },
     "output_type": "display_data"
    }
   ],
   "source": [
    "fig = plt.figure(figsize=(12,6))\n",
    "ax = fig.add_subplot(111)\n",
    "\n",
    "df['Age'].plot(kind = 'kde', color = 'red')\n",
    "df['mean_Age'].plot(kind = 'kde')\n",
    "df['medain_Age'].plot(kind = 'kde')\n",
    "\n",
    "lines, labels = ax.get_legend_handles_labels()\n",
    "ax.legend(lines, labels, loc='best')"
   ]
  },
  {
   "cell_type": "markdown",
   "id": "b8bee80f",
   "metadata": {},
   "source": [
    "### Here we can see that there is not much difference in the distribution so this means that we can use this "
   ]
  },
  {
   "cell_type": "code",
   "execution_count": 27,
   "id": "585f7478",
   "metadata": {},
   "outputs": [
    {
     "data": {
      "text/plain": [
       "<matplotlib.legend.Legend at 0x1b07a52ff40>"
      ]
     },
     "execution_count": 27,
     "metadata": {},
     "output_type": "execute_result"
    },
    {
     "data": {
      "image/png": "[encoded data removed]",
      "text/plain": [
       "<Figure size 864x432 with 1 Axes>"
      ]
     },
     "metadata": {
      "needs_background": "light"
     },
     "output_type": "display_data"
    }
   ],
   "source": [
    "fig = plt.figure(figsize=(12,6))\n",
    "ax = fig.add_subplot(111)\n",
    "\n",
    "df['Fare'].plot(kind = 'kde', color = 'red')\n",
    "df['mean_Fare'].plot(kind = 'kde')\n",
    "df['medain_Fare'].plot(kind = 'kde')\n",
    "\n",
    "lines, labels = ax.get_legend_handles_labels()\n",
    "ax.legend(lines, labels, loc='best')"
   ]
  },
  {
   "cell_type": "markdown",
   "id": "2e7eecc8",
   "metadata": {},
   "source": [
    "### Let's Check the covariance \n",
    "- the cov of age with fare and family\n",
    "- the cov of mean age with fare and family\n",
    "\n",
    "for fare, it values changes form 78 to 62"
   ]
  },
  {
   "cell_type": "code",
   "execution_count": 28,
   "id": "a5821c8b",
   "metadata": {
    "scrolled": true
   },
   "outputs": [
    {
     "data": {
      "text/html": [
       "<div>\n",
       "<style scoped>\n",
       "    .dataframe tbody tr th:only-of-type {\n",
       "        vertical-align: middle;\n",
       "    }\n",
       "\n",
       "    .dataframe tbody tr th {\n",
       "        vertical-align: top;\n",
       "    }\n",
       "\n",
       "    .dataframe thead th {\n",
       "        text-align: right;\n",
       "    }\n",
       "</style>\n",
       "<table border=\"1\" class=\"dataframe\">\n",
       "  <thead>\n",
       "    <tr style=\"text-align: right;\">\n",
       "      <th></th>\n",
       "      <th>Age</th>\n",
       "      <th>Fare</th>\n",
       "      <th>Family</th>\n",
       "      <th>Survived</th>\n",
       "      <th>mean_Age</th>\n",
       "      <th>medain_Age</th>\n",
       "      <th>mean_Fare</th>\n",
       "      <th>medain_Fare</th>\n",
       "    </tr>\n",
       "  </thead>\n",
       "  <tbody>\n",
       "    <tr>\n",
       "      <th>Age</th>\n",
       "      <td>211.019125</td>\n",
       "      <td>78.071438</td>\n",
       "      <td>-6.507525</td>\n",
       "      <td>-0.551296</td>\n",
       "      <td>211.019125</td>\n",
       "      <td>211.019125</td>\n",
       "      <td>73.727862</td>\n",
       "      <td>73.727862</td>\n",
       "    </tr>\n",
       "    <tr>\n",
       "      <th>Fare</th>\n",
       "      <td>78.071438</td>\n",
       "      <td>2530.673077</td>\n",
       "      <td>17.460363</td>\n",
       "      <td>6.442361</td>\n",
       "      <td>62.210610</td>\n",
       "      <td>65.546143</td>\n",
       "      <td>2530.673077</td>\n",
       "      <td>2530.673077</td>\n",
       "    </tr>\n",
       "    <tr>\n",
       "      <th>Family</th>\n",
       "      <td>-6.507525</td>\n",
       "      <td>17.460363</td>\n",
       "      <td>2.603248</td>\n",
       "      <td>0.013063</td>\n",
       "      <td>-5.213332</td>\n",
       "      <td>-5.159658</td>\n",
       "      <td>16.577535</td>\n",
       "      <td>16.577535</td>\n",
       "    </tr>\n",
       "    <tr>\n",
       "      <th>Survived</th>\n",
       "      <td>-0.551296</td>\n",
       "      <td>6.442361</td>\n",
       "      <td>0.013063</td>\n",
       "      <td>0.236772</td>\n",
       "      <td>-0.441656</td>\n",
       "      <td>-0.411226</td>\n",
       "      <td>6.116624</td>\n",
       "      <td>6.116624</td>\n",
       "    </tr>\n",
       "    <tr>\n",
       "      <th>mean_Age</th>\n",
       "      <td>211.019125</td>\n",
       "      <td>62.210610</td>\n",
       "      <td>-5.213332</td>\n",
       "      <td>-0.441656</td>\n",
       "      <td>169.052400</td>\n",
       "      <td>169.052400</td>\n",
       "      <td>59.065130</td>\n",
       "      <td>59.065130</td>\n",
       "    </tr>\n",
       "    <tr>\n",
       "      <th>medain_Age</th>\n",
       "      <td>211.019125</td>\n",
       "      <td>65.546143</td>\n",
       "      <td>-5.159658</td>\n",
       "      <td>-0.411226</td>\n",
       "      <td>169.052400</td>\n",
       "      <td>169.512498</td>\n",
       "      <td>62.232012</td>\n",
       "      <td>62.232012</td>\n",
       "    </tr>\n",
       "    <tr>\n",
       "      <th>mean_Fare</th>\n",
       "      <td>73.727862</td>\n",
       "      <td>2530.673077</td>\n",
       "      <td>16.577535</td>\n",
       "      <td>6.116624</td>\n",
       "      <td>59.065130</td>\n",
       "      <td>62.232012</td>\n",
       "      <td>2402.717697</td>\n",
       "      <td>2402.717697</td>\n",
       "    </tr>\n",
       "    <tr>\n",
       "      <th>medain_Fare</th>\n",
       "      <td>73.727862</td>\n",
       "      <td>2530.673077</td>\n",
       "      <td>16.577535</td>\n",
       "      <td>6.116624</td>\n",
       "      <td>59.065130</td>\n",
       "      <td>62.232012</td>\n",
       "      <td>2402.717697</td>\n",
       "      <td>2402.717697</td>\n",
       "    </tr>\n",
       "  </tbody>\n",
       "</table>\n",
       "</div>"
      ],
      "text/plain": [
       "                    Age         Fare     Family  Survived    mean_Age  \\\n",
       "Age          211.019125    78.071438  -6.507525 -0.551296  211.019125   \n",
       "Fare          78.071438  2530.673077  17.460363  6.442361   62.210610   \n",
       "Family        -6.507525    17.460363   2.603248  0.013063   -5.213332   \n",
       "Survived      -0.551296     6.442361   0.013063  0.236772   -0.441656   \n",
       "mean_Age     211.019125    62.210610  -5.213332 -0.441656  169.052400   \n",
       "medain_Age   211.019125    65.546143  -5.159658 -0.411226  169.052400   \n",
       "mean_Fare     73.727862  2530.673077  16.577535  6.116624   59.065130   \n",
       "medain_Fare   73.727862  2530.673077  16.577535  6.116624   59.065130   \n",
       "\n",
       "             medain_Age    mean_Fare  medain_Fare  \n",
       "Age          211.019125    73.727862    73.727862  \n",
       "Fare          65.546143  2530.673077  2530.673077  \n",
       "Family        -5.159658    16.577535    16.577535  \n",
       "Survived      -0.411226     6.116624     6.116624  \n",
       "mean_Age     169.052400    59.065130    59.065130  \n",
       "medain_Age   169.512498    62.232012    62.232012  \n",
       "mean_Fare     62.232012  2402.717697  2402.717697  \n",
       "medain_Fare   62.232012  2402.717697  2402.717697  "
      ]
     },
     "execution_count": 28,
     "metadata": {},
     "output_type": "execute_result"
    }
   ],
   "source": [
    "df.cov()"
   ]
  },
  {
   "cell_type": "markdown",
   "id": "b91f4330",
   "metadata": {},
   "source": [
    "### Chech corr too \n",
    "- in case of corr we don't see much changes bcz the value is between 0 and 1"
   ]
  },
  {
   "cell_type": "code",
   "execution_count": 30,
   "id": "8db139aa",
   "metadata": {},
   "outputs": [
    {
     "data": {
      "text/html": [
       "<div>\n",
       "<style scoped>\n",
       "    .dataframe tbody tr th:only-of-type {\n",
       "        vertical-align: middle;\n",
       "    }\n",
       "\n",
       "    .dataframe tbody tr th {\n",
       "        vertical-align: top;\n",
       "    }\n",
       "\n",
       "    .dataframe thead th {\n",
       "        text-align: right;\n",
       "    }\n",
       "</style>\n",
       "<table border=\"1\" class=\"dataframe\">\n",
       "  <thead>\n",
       "    <tr style=\"text-align: right;\">\n",
       "      <th></th>\n",
       "      <th>Age</th>\n",
       "      <th>Fare</th>\n",
       "      <th>Family</th>\n",
       "      <th>Survived</th>\n",
       "      <th>mean_Age</th>\n",
       "      <th>medain_Age</th>\n",
       "      <th>mean_Fare</th>\n",
       "      <th>medain_Fare</th>\n",
       "    </tr>\n",
       "  </thead>\n",
       "  <tbody>\n",
       "    <tr>\n",
       "      <th>Age</th>\n",
       "      <td>1.000000</td>\n",
       "      <td>0.099481</td>\n",
       "      <td>-0.301914</td>\n",
       "      <td>-0.077221</td>\n",
       "      <td>1.000000</td>\n",
       "      <td>1.000000</td>\n",
       "      <td>0.097273</td>\n",
       "      <td>0.097273</td>\n",
       "    </tr>\n",
       "    <tr>\n",
       "      <th>Fare</th>\n",
       "      <td>0.099481</td>\n",
       "      <td>1.000000</td>\n",
       "      <td>0.212626</td>\n",
       "      <td>0.263920</td>\n",
       "      <td>0.094681</td>\n",
       "      <td>0.099626</td>\n",
       "      <td>1.000000</td>\n",
       "      <td>1.000000</td>\n",
       "    </tr>\n",
       "    <tr>\n",
       "      <th>Family</th>\n",
       "      <td>-0.301914</td>\n",
       "      <td>0.212626</td>\n",
       "      <td>1.000000</td>\n",
       "      <td>0.016639</td>\n",
       "      <td>-0.248512</td>\n",
       "      <td>-0.245619</td>\n",
       "      <td>0.209609</td>\n",
       "      <td>0.209609</td>\n",
       "    </tr>\n",
       "    <tr>\n",
       "      <th>Survived</th>\n",
       "      <td>-0.077221</td>\n",
       "      <td>0.263920</td>\n",
       "      <td>0.016639</td>\n",
       "      <td>1.000000</td>\n",
       "      <td>-0.069809</td>\n",
       "      <td>-0.064910</td>\n",
       "      <td>0.256445</td>\n",
       "      <td>0.256445</td>\n",
       "    </tr>\n",
       "    <tr>\n",
       "      <th>mean_Age</th>\n",
       "      <td>1.000000</td>\n",
       "      <td>0.094681</td>\n",
       "      <td>-0.248512</td>\n",
       "      <td>-0.069809</td>\n",
       "      <td>1.000000</td>\n",
       "      <td>0.998642</td>\n",
       "      <td>0.092676</td>\n",
       "      <td>0.092676</td>\n",
       "    </tr>\n",
       "    <tr>\n",
       "      <th>medain_Age</th>\n",
       "      <td>1.000000</td>\n",
       "      <td>0.099626</td>\n",
       "      <td>-0.245619</td>\n",
       "      <td>-0.064910</td>\n",
       "      <td>0.998642</td>\n",
       "      <td>1.000000</td>\n",
       "      <td>0.097513</td>\n",
       "      <td>0.097513</td>\n",
       "    </tr>\n",
       "    <tr>\n",
       "      <th>mean_Fare</th>\n",
       "      <td>0.097273</td>\n",
       "      <td>1.000000</td>\n",
       "      <td>0.209609</td>\n",
       "      <td>0.256445</td>\n",
       "      <td>0.092676</td>\n",
       "      <td>0.097513</td>\n",
       "      <td>1.000000</td>\n",
       "      <td>1.000000</td>\n",
       "    </tr>\n",
       "    <tr>\n",
       "      <th>medain_Fare</th>\n",
       "      <td>0.097273</td>\n",
       "      <td>1.000000</td>\n",
       "      <td>0.209609</td>\n",
       "      <td>0.256445</td>\n",
       "      <td>0.092676</td>\n",
       "      <td>0.097513</td>\n",
       "      <td>1.000000</td>\n",
       "      <td>1.000000</td>\n",
       "    </tr>\n",
       "  </tbody>\n",
       "</table>\n",
       "</div>"
      ],
      "text/plain": [
       "                  Age      Fare    Family  Survived  mean_Age  medain_Age  \\\n",
       "Age          1.000000  0.099481 -0.301914 -0.077221  1.000000    1.000000   \n",
       "Fare         0.099481  1.000000  0.212626  0.263920  0.094681    0.099626   \n",
       "Family      -0.301914  0.212626  1.000000  0.016639 -0.248512   -0.245619   \n",
       "Survived    -0.077221  0.263920  0.016639  1.000000 -0.069809   -0.064910   \n",
       "mean_Age     1.000000  0.094681 -0.248512 -0.069809  1.000000    0.998642   \n",
       "medain_Age   1.000000  0.099626 -0.245619 -0.064910  0.998642    1.000000   \n",
       "mean_Fare    0.097273  1.000000  0.209609  0.256445  0.092676    0.097513   \n",
       "medain_Fare  0.097273  1.000000  0.209609  0.256445  0.092676    0.097513   \n",
       "\n",
       "             mean_Fare  medain_Fare  \n",
       "Age           0.097273     0.097273  \n",
       "Fare          1.000000     1.000000  \n",
       "Family        0.209609     0.209609  \n",
       "Survived      0.256445     0.256445  \n",
       "mean_Age      0.092676     0.092676  \n",
       "medain_Age    0.097513     0.097513  \n",
       "mean_Fare     1.000000     1.000000  \n",
       "medain_Fare   1.000000     1.000000  "
      ]
     },
     "execution_count": 30,
     "metadata": {},
     "output_type": "execute_result"
    }
   ],
   "source": [
    "df.corr()"
   ]
  },
  {
   "cell_type": "markdown",
   "id": "91fea941",
   "metadata": {},
   "source": [
    "### At the end we need to check for the outliers using box plot \n",
    "\n",
    "- outliers increase in case of means and mode but in real data we have less outliers"
   ]
  },
  {
   "cell_type": "code",
   "execution_count": 32,
   "id": "93a23156",
   "metadata": {
    "scrolled": false
   },
   "outputs": [
    {
     "data": {
      "text/plain": [
       "<AxesSubplot:>"
      ]
     },
     "execution_count": 32,
     "metadata": {},
     "output_type": "execute_result"
    },
    {
     "data": {
      "image/png": "[encoded data removed]",
      "text/plain": [
       "<Figure size 432x288 with 1 Axes>"
      ]
     },
     "metadata": {
      "needs_background": "light"
     },
     "output_type": "display_data"
    }
   ],
   "source": [
    "df[['Age', 'mean_Age', 'medain_Age']].boxplot()\n"
   ]
  },
  {
   "cell_type": "markdown",
   "id": "cdf4e1d6",
   "metadata": {},
   "source": [
    "### In case of fare, we almost got the same box plot "
   ]
  },
  {
   "cell_type": "code",
   "execution_count": 33,
   "id": "9eb1010d",
   "metadata": {},
   "outputs": [
    {
     "data": {
      "text/plain": [
       "<AxesSubplot:>"
      ]
     },
     "execution_count": 33,
     "metadata": {},
     "output_type": "execute_result"
    },
    {
     "data": {
      "image/png": "[encoded data removed]",
      "text/plain": [
       "<Figure size 432x288 with 1 Axes>"
      ]
     },
     "metadata": {
      "needs_background": "light"
     },
     "output_type": "display_data"
    }
   ],
   "source": [
    "df[['Fare', 'mean_Fare', 'medain_Fare']].boxplot()"
   ]
  },
  {
   "cell_type": "code",
   "execution_count": null,
   "id": "9a797cc7",
   "metadata": {},
   "outputs": [],
   "source": []
  }
 ],
 "metadata": {
  "kernelspec": {
   "display_name": "Python 3 (ipykernel)",
   "language": "python",
   "name": "python3"
  },
  "language_info": {
   "codemirror_mode": {
    "name": "ipython",
    "version": 3
   },
   "file_extension": ".py",
   "mimetype": "text/x-python",
   "name": "python",
   "nbconvert_exporter": "python",
   "pygments_lexer": "ipython3",
   "version": "3.9.12"
  }
 },
 "nbformat": 4,
 "nbformat_minor": 5
}
